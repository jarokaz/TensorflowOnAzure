{
 "cells": [
  {
   "cell_type": "markdown",
   "metadata": {},
   "source": [
    "# 00. Installation and configuration\n",
    "\n",
    "In this example you will optionally create an Azure Machine Learning Workspace and initialize your notebook directory to easily use this workspace.  Typically you will only need to run this once per notebook directory, and all other notebooks in this directory or any sub-directories will automatically use the settings you indicate here.\n",
    "\n",
    "\n",
    "## Prerequisites:\n",
    "\n",
    "### 1. Install Azure ML SDK\n",
    "\n",
    "**Before running this notebook, complete following steps. Then re-launch Jupyter notebooks.**\n",
    "\n",
    "Install [miniconda](https://conda.io/miniconda.html) if you don't have conda Python distribution already.\n",
    "\n",
    "Got to command line terminal window, and type\n",
    "\n",
    "```shell\n",
    "$ conda create -n myenv Python=3.6 cython numpy\n",
    "```\n",
    "\n",
    "On Windows, activate the environment:\n",
    "```shell\n",
    "$ conda activate myenv\n",
    "```\n",
    "\n",
    "If you are running Mac OS you should run\n",
    "```shell\n",
    "$ source activate myenv\n",
    "```\n",
    "Install azure-cli. This step can take several minutes.\n",
    "\n",
    "```shell\n",
    "(myenv) $ pip install azure-cli\n",
    "```\n",
    "\n",
    "Install or update azureml meta-package\n",
    "\n",
    "```\n",
    "(myenv) $ pip install --upgrade --extra-index-url https://azuremlsdktestpypi.azureedge.net/sdk-release/Preview/E7501C02541B433786111FE8E140CAA1 azureml-sdk[notebooks]\n",
    "```\n",
    "\n",
    "### 2. Install conda-aware Jupyter Notebook server, and run history widgets\n",
    "\n",
    "```shell\n",
    "# install Jupyter \n",
    "(myenv) $ conda install nb_conda\n",
    "\n",
    "# install run history widget\n",
    "(myenv) $ jupyter nbextension install --py --user azureml.train.widgets\n",
    "\n",
    "# enable run history widget\n",
    "(myenv) $ jupyter nbextension enable --py --user azureml.train.widgets\n",
    "```\n",
    "\n",
    "That's it! Now re-launch Jupyter notebooks from the new environment with Azure ML SDK.\n",
    "\n",
    "```shell\n",
    "(myenv) $ jupyter notebook\n",
    "```"
   ]
  },
  {
   "cell_type": "code",
   "execution_count": null,
   "metadata": {},
   "outputs": [],
   "source": []
  },
  {
   "cell_type": "markdown",
   "metadata": {},
   "source": [
    "### Connect to your Azure Subscription\n",
    "\n",
    "In order to use an AML Workspace, first you need access to an Azure Subscription.  You can [create your own](https://azure.microsoft.com/en-us/free/) or get your existing subscription information from the [Azure portal](https://portal.azure.com).\n",
    "\n",
    "First login to azure and follow prompts to authenticate. Then check that your subscription is correct"
   ]
  },
  {
   "cell_type": "code",
   "execution_count": 1,
   "metadata": {},
   "outputs": [
    {
     "name": "stdout",
     "output_type": "stream",
     "text": [
      "\u001b[33mNote, we have launched a browser for you to login. For old experience with device code, use \"az login --use-device-code\"\u001b[0m\n",
      "\u001b[33mYou have logged in. Now let us find all the subscriptions to which you have access...\u001b[0m\n",
      "[\n",
      "  {\n",
      "    \"cloudName\": \"AzureCloud\",\n",
      "    \"id\": \"421bcd6b-87f3-4184-aa20-4eacf33f710c\",\n",
      "    \"isDefault\": false,\n",
      "    \"name\": \"Microsoft Azure Internal Consumption\",\n",
      "    \"state\": \"Enabled\",\n",
      "    \"tenantId\": \"72f988bf-86f1-41af-91ab-2d7cd011db47\",\n",
      "    \"user\": {\n",
      "      \"name\": \"jakazmie@microsoft.com\",\n",
      "      \"type\": \"user\"\n",
      "    }\n",
      "  },\n",
      "  {\n",
      "    \"cloudName\": \"AzureCloud\",\n",
      "    \"id\": \"5ffac217-ddd0-4388-8019-457477bd9d12\",\n",
      "    \"isDefault\": false,\n",
      "    \"name\": \"MTC SVC Team AIRS-Common\",\n",
      "    \"state\": \"Enabled\",\n",
      "    \"tenantId\": \"72f988bf-86f1-41af-91ab-2d7cd011db47\",\n",
      "    \"user\": {\n",
      "      \"name\": \"jakazmie@microsoft.com\",\n",
      "      \"type\": \"user\"\n",
      "    }\n",
      "  },\n",
      "  {\n",
      "    \"cloudName\": \"AzureCloud\",\n",
      "    \"id\": \"952a710c-8d9c-40c1-9fec-f752138cc0b3\",\n",
      "    \"isDefault\": true,\n",
      "    \"name\": \"MTC SVC Team AIRS-Cortana Analytics\",\n",
      "    \"state\": \"Enabled\",\n",
      "    \"tenantId\": \"72f988bf-86f1-41af-91ab-2d7cd011db47\",\n",
      "    \"user\": {\n",
      "      \"name\": \"jakazmie@microsoft.com\",\n",
      "      \"type\": \"user\"\n",
      "    }\n",
      "  },\n",
      "  {\n",
      "    \"cloudName\": \"AzureCloud\",\n",
      "    \"id\": \"ace74b35-b0de-428b-a1d9-55459d7a6e30\",\n",
      "    \"isDefault\": false,\n",
      "    \"name\": \"ADLTrainingMS\",\n",
      "    \"state\": \"Enabled\",\n",
      "    \"tenantId\": \"72f988bf-86f1-41af-91ab-2d7cd011db47\",\n",
      "    \"user\": {\n",
      "      \"name\": \"jakazmie@microsoft.com\",\n",
      "      \"type\": \"user\"\n",
      "    }\n",
      "  },\n",
      "  {\n",
      "    \"cloudName\": \"AzureCloud\",\n",
      "    \"id\": \"281332af-6650-4ddb-b47c-1ee6c0ae4123\",\n",
      "    \"isDefault\": false,\n",
      "    \"name\": \"BCDR Marketing Lab\",\n",
      "    \"state\": \"Enabled\",\n",
      "    \"tenantId\": \"72f988bf-86f1-41af-91ab-2d7cd011db47\",\n",
      "    \"user\": {\n",
      "      \"name\": \"jakazmie@microsoft.com\",\n",
      "      \"type\": \"user\"\n",
      "    }\n",
      "  },\n",
      "  {\n",
      "    \"cloudName\": \"AzureCloud\",\n",
      "    \"id\": \"e326c6f8-2c46-450f-9706-a03b90f06a0f\",\n",
      "    \"isDefault\": false,\n",
      "    \"name\": \"CFPlatformBuild\",\n",
      "    \"state\": \"Enabled\",\n",
      "    \"tenantId\": \"72f988bf-86f1-41af-91ab-2d7cd011db47\",\n",
      "    \"user\": {\n",
      "      \"name\": \"jakazmie@microsoft.com\",\n",
      "      \"type\": \"user\"\n",
      "    }\n",
      "  },\n",
      "  {\n",
      "    \"cloudName\": \"AzureCloud\",\n",
      "    \"id\": \"d66b1168-d835-4066-8c45-7d2ed713c082\",\n",
      "    \"isDefault\": false,\n",
      "    \"name\": \"BDHadoopTeamPMTestDemo\",\n",
      "    \"state\": \"Enabled\",\n",
      "    \"tenantId\": \"72f988bf-86f1-41af-91ab-2d7cd011db47\",\n",
      "    \"user\": {\n",
      "      \"name\": \"jakazmie@microsoft.com\",\n",
      "      \"type\": \"user\"\n",
      "    }\n",
      "  },\n",
      "  {\n",
      "    \"cloudName\": \"AzureCloud\",\n",
      "    \"id\": \"ff78024c-d5a1-48ae-88eb-d61f0f60f8ff\",\n",
      "    \"isDefault\": false,\n",
      "    \"name\": \"BDHadoopTeamPMTestDemo2\",\n",
      "    \"state\": \"Enabled\",\n",
      "    \"tenantId\": \"72f988bf-86f1-41af-91ab-2d7cd011db47\",\n",
      "    \"user\": {\n",
      "      \"name\": \"jakazmie@microsoft.com\",\n",
      "      \"type\": \"user\"\n",
      "    }\n",
      "  },\n",
      "  {\n",
      "    \"cloudName\": \"AzureCloud\",\n",
      "    \"id\": \"006c8ad5-cb8a-4900-bb78-2115733f9d0c\",\n",
      "    \"isDefault\": false,\n",
      "    \"name\": \"Cosmos_C&E_DPG_Azure ML_100293\",\n",
      "    \"state\": \"Enabled\",\n",
      "    \"tenantId\": \"72f988bf-86f1-41af-91ab-2d7cd011db47\",\n",
      "    \"user\": {\n",
      "      \"name\": \"jakazmie@microsoft.com\",\n",
      "      \"type\": \"user\"\n",
      "    }\n",
      "  },\n",
      "  {\n",
      "    \"cloudName\": \"AzureCloud\",\n",
      "    \"id\": \"741fd0f5-9cb8-442c-91c3-3ef4ca231c2a\",\n",
      "    \"isDefault\": false,\n",
      "    \"name\": \"Workload Insight dev/test subscription\",\n",
      "    \"state\": \"Enabled\",\n",
      "    \"tenantId\": \"72f988bf-86f1-41af-91ab-2d7cd011db47\",\n",
      "    \"user\": {\n",
      "      \"name\": \"jakazmie@microsoft.com\",\n",
      "      \"type\": \"user\"\n",
      "    }\n",
      "  }\n",
      "]\n"
     ]
    }
   ],
   "source": [
    "!az login"
   ]
  },
  {
   "cell_type": "code",
   "execution_count": 2,
   "metadata": {},
   "outputs": [
    {
     "name": "stdout",
     "output_type": "stream",
     "text": [
      "EnvironmentName    IsDefault    Name                                 State    TenantId\n",
      "-----------------  -----------  -----------------------------------  -------  ------------------------------------\n",
      "AzureCloud         True         MTC SVC Team AIRS-Cortana Analytics  Enabled  72f988bf-86f1-41af-91ab-2d7cd011db47\n"
     ]
    }
   ],
   "source": [
    "!az account show -o table"
   ]
  },
  {
   "cell_type": "markdown",
   "metadata": {},
   "source": [
    "If you have multiple subscriptions and need to change the active one, you can use a command\n",
    "```shell\n",
    "az account set -s <subscription-id>\n",
    "```"
   ]
  },
  {
   "cell_type": "markdown",
   "metadata": {},
   "source": [
    "### Register Machine Learning Services Resource Provider\n",
    "\n",
    "This step is required to use the Azure ML services backing the SDK."
   ]
  },
  {
   "cell_type": "code",
   "execution_count": null,
   "metadata": {},
   "outputs": [],
   "source": [
    "# register the new RP\n",
    "!az provider register -n Microsoft.MachineLearningServices\n",
    "\n",
    "# check the registration status\n",
    "!az provider show -n Microsoft.MachineLearningServices"
   ]
  },
  {
   "cell_type": "markdown",
   "metadata": {},
   "source": [
    "### Check core SDK version number for validate your installation and for debugging purposes"
   ]
  },
  {
   "cell_type": "code",
   "execution_count": 1,
   "metadata": {
    "scrolled": true
   },
   "outputs": [
    {
     "name": "stdout",
     "output_type": "stream",
     "text": [
      "SDK Version: 0.1.4\n"
     ]
    }
   ],
   "source": [
    "import azureml.core\n",
    "\n",
    "print(\"SDK Version:\", azureml.core.VERSION)"
   ]
  },
  {
   "cell_type": "markdown",
   "metadata": {},
   "source": [
    "## Initialize an Azure ML Workspace\n",
    "### What is an Azure ML Workspace and why do I need one?\n",
    "\n",
    "An AML Workspace is an Azure resource that organaizes and coordinates the actions of many other Azure resources to assist in executing and sharing machine learning workflows.  In particular, an AML Workspace coordinates storage, databases, and compute resources providing added functionality for machine learning experimentation, operationalization, and the monitoring of operationalized models.\n",
    "\n",
    "\n",
    "### What do I need\n",
    "\n",
    "To create or access an Azure ML Workspace, you will need to import the AML library and specify following information:\n",
    "* A name for your workspace. You can choose one.\n",
    "* Your subscription id. Use *id* value from *az account show* output above. \n",
    "* The resource group name. Resource group organizes Azure resources and provides default region for the resources in the group. You can either specify a new one, in which case it gets created for your Workspace, or use an existing one or create a new one from [Azure portal](https://portal.azure.com)\n",
    "\n",
    "Please these values below. For workspace region, we prefer you use `eastus2` or `eastus2euap` (only if you have access to EUAP) for most scenarios. Other supported regions include `westcentralus`, `southeastasia`, `westeurope`, `australiaeast`, although their support might lag behind `eastus2` and `eastus2euap`."
   ]
  },
  {
   "cell_type": "code",
   "execution_count": 3,
   "metadata": {},
   "outputs": [],
   "source": [
    "subscription_id = \"<my-subscription-id>\"\n",
    "resource_group = \"myrg\"\n",
    "workspace_name = \"myws\"\n",
    "workspace_region = \"eastus2\" # or eastus2euap"
   ]
  },
  {
   "cell_type": "markdown",
   "metadata": {},
   "source": [
    "## Creating a workspace\n",
    "If you already have access to an AML Workspace you want to use, you can skip this cell.  Otherwise, this cell will create an AML workspace for you in a subscription provided you have the correct permissions.\n",
    "\n",
    "This will fail when:\n",
    "1. The workspace already exists\n",
    "2. You do not have permission to create a workspace in the resource group\n",
    "3. You are not a subscription owner or contributor and no Azure ML workspaces have ever been created in this subscription\n",
    "\n",
    "If workspace creation fails for any reason other than already existing, please work with your IT admin to provide you with the appropriate permissions or to provision the required resources.\n",
    "\n",
    "**Note** The workspace creation can take several minutes."
   ]
  },
  {
   "cell_type": "code",
   "execution_count": 4,
   "metadata": {},
   "outputs": [
    {
     "name": "stderr",
     "output_type": "stream",
     "text": [
      "UserWarning: The resource group doesn't exist or was not provided. AzureML SDK is creating a resource group=rka0815 in location=eastus2 using subscription=fac34303-435d-4486-8c3f-7094d82a0b60\n"
     ]
    },
    {
     "data": {
      "text/plain": [
       "{'id': '/subscriptions/fac34303-435d-4486-8c3f-7094d82a0b60/resourceGroups/rka0815/providers/Microsoft.MachineLearningServices/workspaces/myws',\n",
       " 'name': 'myws',\n",
       " 'location': 'eastus2',\n",
       " 'type': 'Microsoft.MachineLearningServices/workspaces',\n",
       " 'description': '',\n",
       " 'friendlyName': 'myws',\n",
       " 'containerRegistry': '/subscriptions/fac34303-435d-4486-8c3f-7094d82a0b60/resourcegroups/rka0815/providers/microsoft.containerregistry/registries/mywsacrfrlmcejk',\n",
       " 'keyVault': '/subscriptions/fac34303-435d-4486-8c3f-7094d82a0b60/resourcegroups/rka0815/providers/microsoft.keyvault/vaults/mywskeyvaulthyxpvigh',\n",
       " 'applicationInsights': '/subscriptions/fac34303-435d-4486-8c3f-7094d82a0b60/resourcegroups/rka0815/providers/microsoft.insights/components/mywsinsightskwibblnr',\n",
       " 'batchaiWorkspace': '/subscriptions/fac34303-435d-4486-8c3f-7094d82a0b60/resourcegroups/rka0815/providers/microsoft.batchai/workspaces/mywsbatchai_wsgntgrr',\n",
       " 'identityPrincipalId': '18c78e1a-7efa-488f-9652-0ea39e5e8e09',\n",
       " 'identityTenantId': '72f988bf-86f1-41af-91ab-2d7cd011db47',\n",
       " 'identityType': 'SystemAssigned',\n",
       " 'storageAccount': '/subscriptions/fac34303-435d-4486-8c3f-7094d82a0b60/resourcegroups/rka0815/providers/microsoft.storage/storageaccounts/mywsstoragebwkjanal'}"
      ]
     },
     "execution_count": 4,
     "metadata": {},
     "output_type": "execute_result"
    }
   ],
   "source": [
    "# import the Workspace class and check the azureml SDK version\n",
    "from azureml.core import Workspace\n",
    "\n",
    "ws = Workspace.create(name = workspace_name,\n",
    "                      subscription_id = subscription_id,\n",
    "                      resource_group = resource_group, \n",
    "                      location = workspace_region)\n",
    "ws.get_details()"
   ]
  },
  {
   "cell_type": "markdown",
   "metadata": {},
   "source": [
    "## Configuring your local environment\n",
    "You can validate that you have access to the specified workspace and write a configuration file to the default configuration location, `./aml_config/config.json`."
   ]
  },
  {
   "cell_type": "code",
   "execution_count": 5,
   "metadata": {},
   "outputs": [
    {
     "name": "stdout",
     "output_type": "stream",
     "text": [
      "Wrote the config file config.json to: C:\\Users\\roastala\\notebooks\\aml_config\\config.json\n"
     ]
    }
   ],
   "source": [
    "ws = Workspace(workspace_name = workspace_name,\n",
    "               subscription_id = subscription_id,\n",
    "               resource_group = resource_group)\n",
    "\n",
    "# persist the subscription id, resource group name, and workspace name in aml_config/config.json.\n",
    "ws.write_config()"
   ]
  },
  {
   "cell_type": "markdown",
   "metadata": {},
   "source": [
    "You can then load the workspace from this config file from any notebook in the current directory."
   ]
  },
  {
   "cell_type": "code",
   "execution_count": 6,
   "metadata": {
    "scrolled": true
   },
   "outputs": [
    {
     "name": "stdout",
     "output_type": "stream",
     "text": [
      "Found the config file in: C:\\Users\\roastala\\notebooks\\aml_config\\config.json\n"
     ]
    },
    {
     "data": {
      "text/plain": [
       "{'id': '/subscriptions/fac34303-435d-4486-8c3f-7094d82a0b60/resourceGroups/rka0815/providers/Microsoft.MachineLearningServices/workspaces/myws',\n",
       " 'name': 'myws',\n",
       " 'location': 'eastus2',\n",
       " 'type': 'Microsoft.MachineLearningServices/workspaces',\n",
       " 'description': '',\n",
       " 'friendlyName': 'myws',\n",
       " 'containerRegistry': '/subscriptions/fac34303-435d-4486-8c3f-7094d82a0b60/resourcegroups/rka0815/providers/microsoft.containerregistry/registries/mywsacrfrlmcejk',\n",
       " 'keyVault': '/subscriptions/fac34303-435d-4486-8c3f-7094d82a0b60/resourcegroups/rka0815/providers/microsoft.keyvault/vaults/mywskeyvaulthyxpvigh',\n",
       " 'applicationInsights': '/subscriptions/fac34303-435d-4486-8c3f-7094d82a0b60/resourcegroups/rka0815/providers/microsoft.insights/components/mywsinsightskwibblnr',\n",
       " 'batchaiWorkspace': '/subscriptions/fac34303-435d-4486-8c3f-7094d82a0b60/resourcegroups/rka0815/providers/microsoft.batchai/workspaces/mywsbatchai_wsgntgrr',\n",
       " 'identityPrincipalId': '18c78e1a-7efa-488f-9652-0ea39e5e8e09',\n",
       " 'identityTenantId': '72f988bf-86f1-41af-91ab-2d7cd011db47',\n",
       " 'identityType': 'SystemAssigned',\n",
       " 'storageAccount': '/subscriptions/fac34303-435d-4486-8c3f-7094d82a0b60/resourcegroups/rka0815/providers/microsoft.storage/storageaccounts/mywsstoragebwkjanal'}"
      ]
     },
     "execution_count": 6,
     "metadata": {},
     "output_type": "execute_result"
    }
   ],
   "source": [
    "# load workspace configuratio from ./aml_config/config.json file.ß\n",
    "my_workspace = Workspace.from_config()\n",
    "my_workspace.get_details()"
   ]
  },
  {
   "cell_type": "markdown",
   "metadata": {},
   "source": [
    "## Create a folder to host all sample projects\n",
    "Lastly, create a folder where all the sample projects will be hosted."
   ]
  },
  {
   "cell_type": "code",
   "execution_count": 7,
   "metadata": {},
   "outputs": [
    {
     "name": "stdout",
     "output_type": "stream",
     "text": [
      "Sample projects will be created in ./sample_projects.\n"
     ]
    }
   ],
   "source": [
    "import os\n",
    "\n",
    "sample_projects_folder = './sample_projects'\n",
    "\n",
    "if not os.path.isdir(sample_projects_folder):\n",
    "    os.mkdir(sample_projects_folder)\n",
    "    \n",
    "print('Sample projects will be created in {}.'.format(sample_projects_folder))"
   ]
  },
  {
   "cell_type": "markdown",
   "metadata": {},
   "source": [
    "## Success!\n",
    "Great, you are ready to move on to the rest of the sample notebooks."
   ]
  },
  {
   "cell_type": "code",
   "execution_count": null,
   "metadata": {},
   "outputs": [],
   "source": []
  }
 ],
 "metadata": {
  "kernelspec": {
   "display_name": "Python [default]",
   "language": "python",
   "name": "python3"
  },
  "language_info": {
   "codemirror_mode": {
    "name": "ipython",
    "version": 3
   },
   "file_extension": ".py",
   "mimetype": "text/x-python",
   "name": "python",
   "nbconvert_exporter": "python",
   "pygments_lexer": "ipython3",
   "version": "3.6.6"
  }
 },
 "nbformat": 4,
 "nbformat_minor": 2
}
